{
 "cells": [
  {
   "cell_type": "markdown",
   "id": "5db06171-2877-4b49-946d-da618d0e59cc",
   "metadata": {},
   "source": [
    "## Load Inpainting Model"
   ]
  },
  {
   "cell_type": "code",
   "execution_count": 1,
   "id": "14a6f791-0152-4007-a509-65d399d6f935",
   "metadata": {},
   "outputs": [
    {
     "name": "stderr",
     "output_type": "stream",
     "text": [
      "/home/yangyo/anaconda3/envs/DL/lib/python3.11/site-packages/tqdm/auto.py:21: TqdmWarning: IProgress not found. Please update jupyter and ipywidgets. See https://ipywidgets.readthedocs.io/en/stable/user_install.html\n",
      "  from .autonotebook import tqdm as notebook_tqdm\n",
      "/home/yangyo/anaconda3/envs/DL/lib/python3.11/site-packages/huggingface_hub/file_download.py:1132: FutureWarning: `resume_download` is deprecated and will be removed in version 1.0.0. Downloads always resume when possible. If you want to force a new download, use `force_download=True`.\n",
      "  warnings.warn(\n",
      "Loading pipeline components...: 100%|██████████| 7/7 [00:00<00:00,  9.85it/s]\n"
     ]
    }
   ],
   "source": [
    "import torch\n",
    "from diffusers import AutoPipelineForInpainting\n",
    "from diffusers.utils import load_image, make_image_grid\n",
    "\n",
    "pipeline = AutoPipelineForInpainting.from_pretrained(\n",
    "    \"runwayml/stable-diffusion-inpainting\", torch_dtype=torch.float16, variant=\"fp16\"\n",
    ")\n",
    "pipeline.enable_model_cpu_offload()"
   ]
  },
  {
   "cell_type": "code",
   "execution_count": 15,
   "id": "54433e04-9786-4279-9047-c717210a6e17",
   "metadata": {},
   "outputs": [],
   "source": [
    "import os\n",
    "import numpy as np\n",
    "import matplotlib.pyplot as plt\n",
    "from PIL import Image\n",
    "from tqdm import tqdm\n",
    "import shutil"
   ]
  },
  {
   "cell_type": "code",
   "execution_count": 16,
   "id": "3b630769-8c76-42c4-b59c-bf439fddadd0",
   "metadata": {},
   "outputs": [
    {
     "data": {
      "text/plain": [
       "'/home/yangyo/Desktop/DeepLearning'"
      ]
     },
     "execution_count": 16,
     "metadata": {},
     "output_type": "execute_result"
    }
   ],
   "source": [
    "os.getcwd()"
   ]
  },
  {
   "cell_type": "code",
   "execution_count": 17,
   "id": "63ea865e-610b-4ee9-8599-6b359aa5c476",
   "metadata": {},
   "outputs": [],
   "source": [
    "imgs_path = os.getcwd() + \"/test20_image/\"\n",
    "labels_path = os.getcwd() + \"/test20_label/\"\n",
    "pos_path = os.getcwd() + \"/test20_pos/\"\n",
    "save_path = os.getcwd() + \"/stable_diffusion_inpainting/\""
   ]
  },
  {
   "cell_type": "markdown",
   "id": "2d03f76b-a76f-425e-99d9-7fadcc640832",
   "metadata": {},
   "source": [
    "## Caculate Object coordinate"
   ]
  },
  {
   "cell_type": "code",
   "execution_count": 19,
   "id": "c6990c75-5e9c-48ef-945a-b0ec3974d9ad",
   "metadata": {},
   "outputs": [],
   "source": [
    "labels = os.listdir(labels_path)\n",
    "for label in labels:\n",
    "    if label != \".ipynb_checkpoints\":\n",
    "        with open(labels_path + label, 'r') as read_file, open(pos_path + label, 'w') as write_file:\n",
    "            lines = read_file.readlines()\n",
    "            for i in range(1, len(lines)):\n",
    "                output = lines[i].split(' ')\n",
    "                w = float(output[2]) * 1024.0  #object width\n",
    "                h = float(output[3]) * 1024.0  #object height\n",
    "                x = int(float(output[0]) * 1024.0 - (w / 2)) # object Xmin\n",
    "                y = int(float(output[1]) * 1024.0 - (h / 2)) # object Ymin\n",
    "                write_file.write(f\"{x} {y} {int(w)} {int(h)} {output[4]}\") # save as .txt"
   ]
  },
  {
   "cell_type": "markdown",
   "id": "b876d320-6a86-4c23-8cdb-ad3d025e338c",
   "metadata": {},
   "source": [
    "## Create Mask Image"
   ]
  },
  {
   "cell_type": "code",
   "execution_count": 20,
   "id": "8d66244a-da87-49aa-90af-0cd2d0b1cddb",
   "metadata": {},
   "outputs": [],
   "source": [
    "def create_mask(coordinate_path, conf):\n",
    "    arr = np.zeros((1024, 1024, 3))\n",
    "    with open(coordinate_path, 'r') as f:\n",
    "        for line in f.readlines():\n",
    "            info = line.split(' ')\n",
    "            if float(info[4]) > conf:\n",
    "              arr[int(info[1]): int(info[1]) + int(info[3]), int(info[0]): int(info[0]) + int(info[2]),  :] = 255\n",
    "    return arr"
   ]
  },
  {
   "cell_type": "markdown",
   "id": "add6f4ea-f6bc-46d6-91db-48cc5537ed99",
   "metadata": {},
   "source": [
    "## Draw Original Image & Mask Image & Inpainting"
   ]
  },
  {
   "cell_type": "code",
   "execution_count": 21,
   "id": "a80985b2-9be2-478e-b30a-7b3b89daa8c9",
   "metadata": {},
   "outputs": [],
   "source": [
    "prompt = \"Clear, without acne , nature,  skin\"\n",
    "negative_prompt = \"bad anatomy, deformed, ugly, disfigured\"\n",
    "generator = torch.Generator(\"cuda\").manual_seed(92)\n",
    "\n",
    "def inpaint(image_path, pos_path, label, conf, prompt, negative_prompt, save_path, generator):\n",
    "    number = label[:-4]\n",
    "    img = Image.open(image_path + number + \".jpg\")\n",
    "    mask = create_mask(pos_path + number + \".txt\", conf)\n",
    "    mask_img = Image.fromarray(mask.astype(np.uint8))\n",
    "    prompt = prompt\n",
    "    negative_prompt = negative_prompt\n",
    "    image = pipeline(prompt=prompt, negative_prompt=negative_prompt, image=img, mask_image=mask_img, generator=generator).images[0]\n",
    "    if save_path != None:\n",
    "        image.save(save_path + f\"{number}.jpg\")\n",
    "    fig, axes = plt.subplots(nrows=1, ncols=3, figsize=(8, 6))\n",
    "    axes[0].set_title(f\"levle1_{number}.jpg\")\n",
    "    axes[1].set_title(f\"Mask\")\n",
    "    axes[2].set_title(f\"Inpainting\")\n",
    "    axes[0].imshow(img)\n",
    "    axes[1].imshow(mask_img)\n",
    "    axes[2].imshow(image)"
   ]
  },
  {
   "cell_type": "markdown",
   "id": "f1e918f4-099b-43ff-a412-e5d8b51ebbfe",
   "metadata": {},
   "source": [
    "## Test All"
   ]
  },
  {
   "cell_type": "code",
   "execution_count": 23,
   "id": "24e9da8f-8a92-4208-9647-8d5292e55b52",
   "metadata": {},
   "outputs": [
    {
     "name": "stderr",
     "output_type": "stream",
     "text": [
      "100%|██████████| 50/50 [00:05<00:00,  9.58it/s]\n",
      "Potential NSFW content was detected in one or more images. A black image will be returned instead. Try again with a different prompt and/or seed.\n"
     ]
    }
   ],
   "source": [
    "for label in labels:\n",
    "    inpaint(imgs_path , pos_path , label, 0.0, prompt, negative_prompt, save_path, generator)"
   ]
  },
  {
   "cell_type": "code",
   "execution_count": null,
   "id": "71616cdc-9169-48ec-9015-0d053ab0ff9c",
   "metadata": {},
   "outputs": [],
   "source": []
  },
  {
   "cell_type": "code",
   "execution_count": null,
   "id": "33327c0c",
   "metadata": {},
   "outputs": [],
   "source": []
  }
 ],
 "metadata": {
  "kernelspec": {
   "display_name": "Python 3 (ipykernel)",
   "language": "python",
   "name": "python3"
  },
  "language_info": {
   "codemirror_mode": {
    "name": "ipython",
    "version": 3
   },
   "file_extension": ".py",
   "mimetype": "text/x-python",
   "name": "python",
   "nbconvert_exporter": "python",
   "pygments_lexer": "ipython3",
   "version": "3.11.9"
  }
 },
 "nbformat": 4,
 "nbformat_minor": 5
}

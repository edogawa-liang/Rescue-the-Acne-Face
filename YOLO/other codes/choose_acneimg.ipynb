{
 "cells": [
  {
   "cell_type": "markdown",
   "metadata": {},
   "source": [
    "# 將痘痘數>10的照片挑出"
   ]
  },
  {
   "cell_type": "code",
   "execution_count": 1,
   "metadata": {},
   "outputs": [],
   "source": [
    "import os   \n",
    "import glob\n",
    "import shutil"
   ]
  },
  {
   "cell_type": "code",
   "execution_count": 3,
   "metadata": {},
   "outputs": [
    {
     "name": "stdout",
     "output_type": "stream",
     "text": [
      "396\n"
     ]
    }
   ],
   "source": [
    "path_train = 'acne-new.v36-backup.yolov8_choose/train'\n",
    "fnames = glob.glob(path_train + r'/**/labels/*.txt', recursive=True)\n",
    "img_path = path_train + '/images'\n",
    "\n",
    "path_choose = 'acne_choose'\n",
    "if not os.path.exists(path_choose) :\n",
    "    os.makedirs(path_choose) \n",
    "\n",
    "# 當我的txt條列數目大於10 把檔案複製到acne_choose\n",
    "for fname in fnames:\n",
    "    with open(fname, 'r') as f:\n",
    "        lines = f.readlines()\n",
    "        if len(lines) > 10:\n",
    "            img_name = '.'.join(fname.split('/')[-1].split('.')[:-1] + ['jpg'])\n",
    "            # 將img 檔案移到acne_choose\n",
    "            shutil.copy(path_train + '/images/'+ img_name, path_choose)\n",
    "            print(img_name)\n",
    "\n",
    "# 印出acne_choose的檔案數目\n",
    "print(len(glob.glob(path_choose + r'/*.jpg', recursive=True)))"
   ]
  }
 ],
 "metadata": {
  "kernelspec": {
   "display_name": "Pytorch",
   "language": "python",
   "name": "python3"
  },
  "language_info": {
   "codemirror_mode": {
    "name": "ipython",
    "version": 3
   },
   "file_extension": ".py",
   "mimetype": "text/x-python",
   "name": "python",
   "nbconvert_exporter": "python",
   "pygments_lexer": "ipython3",
   "version": "3.1.-1"
  }
 },
 "nbformat": 4,
 "nbformat_minor": 2
}

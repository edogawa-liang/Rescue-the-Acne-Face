{
 "cells": [
  {
   "cell_type": "markdown",
   "metadata": {},
   "source": [
    "# Resize Image"
   ]
  },
  {
   "cell_type": "code",
   "execution_count": 3,
   "metadata": {},
   "outputs": [],
   "source": [
    "import cv2\n",
    "import glob"
   ]
  },
  {
   "cell_type": "code",
   "execution_count": 8,
   "metadata": {},
   "outputs": [
    {
     "name": "stdout",
     "output_type": "stream",
     "text": [
      "stable_diffusion_inpainting/side_42.jpg\n",
      "stable_diffusion_inpainting/forward_65.jpg\n",
      "stable_diffusion_inpainting/side_7.jpg\n",
      "stable_diffusion_inpainting/side_55.jpg\n",
      "stable_diffusion_inpainting/side_4.jpg\n",
      "stable_diffusion_inpainting/side_51.jpg\n",
      "stable_diffusion_inpainting/side_21.jpg\n",
      "stable_diffusion_inpainting/side_37.jpg\n",
      "stable_diffusion_inpainting/forward_15.jpg\n",
      "stable_diffusion_inpainting/side_24.jpg\n",
      "stable_diffusion_inpainting/side_19.jpg\n",
      "stable_diffusion_inpainting/forward_4.jpg\n",
      "stable_diffusion_inpainting/forward_8.jpg\n",
      "stable_diffusion_inpainting/forward_20.jpg\n",
      "stable_diffusion_inpainting/side_38.jpg\n",
      "stable_diffusion_inpainting/forward_101.jpg\n",
      "stable_diffusion_inpainting/forward_50.jpg\n",
      "stable_diffusion_inpainting/forward_79.jpg\n",
      "stable_diffusion_inpainting/forward_96.jpg\n",
      "stable_diffusion_inpainting/forward_83.jpg\n"
     ]
    }
   ],
   "source": [
    "# 用途: inpainting結果為512*512，將照片resize回256*256\n",
    "from_path_test = glob.glob(\"stable_diffusion_inpainting\" + r'/*.jpg', recursive=True)\n",
    "\n",
    "for i in range(len(from_path_test)):\n",
    "    img = cv2.imread(from_path_test[i])\n",
    "    img = cv2.resize(img, (256, 256))\n",
    "    cv2.imwrite(from_path_test[i], img)\n",
    "    print(from_path_test[i])\n"
   ]
  },
  {
   "cell_type": "markdown",
   "metadata": {},
   "source": [
    "### 將照片與痘痘位置的紀錄一起 resize"
   ]
  },
  {
   "cell_type": "code",
   "execution_count": null,
   "metadata": {},
   "outputs": [],
   "source": [
    "def resize_img(img_path):\n",
    "    for img_file in glob.glob(img_path + '/images/*.jpg'):\n",
    "        img_name = img_file.split('/')[-1]\n",
    "        label_name = (img_path+'/labels/'+img_name).split('.')[:-1]+['txt']\n",
    "        label_name = '.'.join(label_name)\n",
    "        \n",
    "        img = cv2.imread(img_file)\n",
    "        height, width = img.shape[:2]\n",
    "\n",
    "        img = cv2.resize(img, (640, 640))\n",
    "        cv2.imwrite(img_path + '/images/' + img_name, img)\n",
    "\n",
    "        with open(label_name, 'r') as f:\n",
    "            lines = f.readlines()\n",
    "        with open(label_name, 'w') as f:\n",
    "            for line in lines:\n",
    "                line = line.split(' ')\n",
    "                # 每張照片不一樣大小，所以要除以照片各自的寬度和高度\n",
    "                x = float(line[1]) * 640 / width\n",
    "                y = float(line[2]) * 640 / height\n",
    "                w = float(line[3]) * 640 / width\n",
    "                h = float(line[4]) * 640 / height\n",
    "                line[1] = str(x)\n",
    "                line[2] = str(y)\n",
    "                line[3] = str(w)\n",
    "                line[4] = str(h)\n",
    "                f.write(' '.join(line) + '\\n')\n",
    "                "
   ]
  }
 ],
 "metadata": {
  "kernelspec": {
   "display_name": "Pytorch",
   "language": "python",
   "name": "python3"
  },
  "language_info": {
   "codemirror_mode": {
    "name": "ipython",
    "version": 3
   },
   "file_extension": ".py",
   "mimetype": "text/x-python",
   "name": "python",
   "nbconvert_exporter": "python",
   "pygments_lexer": "ipython3",
   "version": "3.11.5"
  }
 },
 "nbformat": 4,
 "nbformat_minor": 2
}

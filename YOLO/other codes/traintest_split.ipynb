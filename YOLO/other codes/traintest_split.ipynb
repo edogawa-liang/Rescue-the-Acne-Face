{
 "cells": [
  {
   "cell_type": "markdown",
   "metadata": {},
   "source": [
    "## 將training data 分出validaion 和 test data\n",
    "用於 acne-new.v36-backup.yolov8 資料集\n"
   ]
  },
  {
   "cell_type": "code",
   "execution_count": 35,
   "metadata": {},
   "outputs": [],
   "source": [
    "# 將train 資料夾內的檔案隨機取部分複製到validation資料夾\n",
    "import os   \n",
    "import random\n",
    "import shutil\n",
    "\n",
    "# 設定路徑\n",
    "path_train = 'acne-new.v36-backup.yolov8/train'\n",
    "path_val = 'acne-new.v36-backup.yolov8/valid'\n",
    "path_test = 'acne-new.v36-backup.yolov8/test'\n",
    "\n",
    "if not os.path.exists(path_val+ '/labels') :\n",
    "    os.makedirs(path_val+ '/labels') \n",
    "if not os.path.exists(path_val+ '/images') :\n",
    "    os.makedirs(path_val+ '/images')    \n",
    "if not os.path.exists(path_test+ '/labels') :\n",
    "    os.makedirs(path_test+ '/labels') \n",
    "if not os.path.exists(path_test+ '/images') :\n",
    "    os.makedirs(path_test+ '/images')  "
   ]
  },
  {
   "cell_type": "code",
   "execution_count": 36,
   "metadata": {},
   "outputs": [
    {
     "name": "stdout",
     "output_type": "stream",
     "text": [
      "n_val: 323\n",
      "n_test: 161\n",
      "n_train: 2755\n"
     ]
    }
   ],
   "source": [
    "import glob\n",
    "\n",
    "# 設定比例\n",
    "p_val = 0.1\n",
    "p_test = 0.05\n",
    "\n",
    "# 取得所有檔案\n",
    "fnames = glob.glob(path_train + r'/**/labels/*.txt', recursive=True)\n",
    "\n",
    "# 隨機取樣\n",
    "random.seed(0)\n",
    "random.shuffle(fnames)\n",
    "n_val = int(len(fnames)*p_val)\n",
    "n_test = int(len(fnames)*p_test)\n",
    "\n",
    "# 複製檔案\n",
    "for i in range(n_val):\n",
    "    shutil.copy(fnames[i], path_val + '/labels')\n",
    "    shutil.copy(fnames[i].replace('labels', 'images').replace('txt', 'jpg'), path_val + '/images')\n",
    "for i in range(n_val, n_val+n_test):\n",
    "    shutil.copy(fnames[i], path_test + '/labels')\n",
    "    shutil.copy(fnames[i].replace('labels', 'images').replace('txt', 'jpg'), path_test + '/images')\n",
    "\n",
    "print('n_val:', n_val)\n",
    "print('n_test:', n_test)\n",
    "print('n_train:', len(fnames)-n_val-n_test)\n",
    "\n",
    "# 將檔案從train資料夾刪除\n",
    "for i in range(n_val+n_test):\n",
    "    os.remove(fnames[i])\n",
    "    os.remove(fnames[i].replace('labels', 'images').replace('txt', 'jpg'))"
   ]
  }
 ],
 "metadata": {
  "kernelspec": {
   "display_name": "Pytorch",
   "language": "python",
   "name": "python3"
  },
  "language_info": {
   "codemirror_mode": {
    "name": "ipython",
    "version": 3
   },
   "file_extension": ".py",
   "mimetype": "text/x-python",
   "name": "python",
   "nbconvert_exporter": "python",
   "pygments_lexer": "ipython3",
   "version": "3.1.undefined"
  }
 },
 "nbformat": 4,
 "nbformat_minor": 2
}

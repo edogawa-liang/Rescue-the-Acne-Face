{
 "cells": [
  {
   "cell_type": "markdown",
   "metadata": {},
   "source": [
    "# 統一 dataset 的 label\n",
    "原始資料集痘痘有的標記為0，有的為1。將其統一為0。"
   ]
  },
  {
   "cell_type": "code",
   "execution_count": 1,
   "metadata": {},
   "outputs": [],
   "source": [
    "import glob"
   ]
  },
  {
   "cell_type": "code",
   "execution_count": 2,
   "metadata": {},
   "outputs": [
    {
     "name": "stdout",
     "output_type": "stream",
     "text": [
      "<class 'list'>\n"
     ]
    }
   ],
   "source": [
    "path_ = r'acne.v1i.yolov8'\n",
    "fnames = glob.glob(path_ + r'/**/labels/*.txt', recursive=True)\n",
    "print(type(fnames))"
   ]
  },
  {
   "cell_type": "markdown",
   "metadata": {},
   "source": [
    "## Change the label from 1 to 0"
   ]
  },
  {
   "cell_type": "code",
   "execution_count": 3,
   "metadata": {},
   "outputs": [],
   "source": [
    "# 用 glob 找出所有的 .txt 檔案\n",
    "fnames = glob.glob(path_ + r'/**/labels/*.txt', recursive=True)\n",
    "\n",
    "for filename in fnames:\n",
    "    \n",
    "    # 讀檔案並且收集修改後的內容\n",
    "    with open(filename, 'r', encoding='utf-8') as file:\n",
    "        lines = file.readlines()\n",
    "\n",
    "    # 修改內容\n",
    "    new_lines = []\n",
    "    for line in lines:\n",
    "        columns = line.strip().split()\n",
    "        if columns and columns[0] == '1':\n",
    "            print(filename)  \n",
    "            columns[0] = '0'  \n",
    "        new_line = ' '.join(columns) + '\\n'  # 重新組合行為一個字串\n",
    "        new_lines.append(new_line)\n",
    "\n",
    "    # 寫回檔案\n",
    "    with open(filename, 'w', encoding='utf-8') as file:\n",
    "        file.writelines(new_lines)\n",
    "\n",
    "    # print(f\"Updated {filename}\")\n",
    "    # print(\"-\" * 40)\n"
   ]
  }
 ],
 "metadata": {
  "kernelspec": {
   "display_name": "Python 3 (ipykernel)",
   "language": "python",
   "name": "python3"
  },
  "language_info": {
   "codemirror_mode": {
    "name": "ipython",
    "version": 3
   },
   "file_extension": ".py",
   "mimetype": "text/x-python",
   "name": "python",
   "nbconvert_exporter": "python",
   "pygments_lexer": "ipython3",
   "version": "3.11.5"
  }
 },
 "nbformat": 4,
 "nbformat_minor": 4
}

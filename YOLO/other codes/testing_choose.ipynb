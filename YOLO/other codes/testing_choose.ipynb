{
 "cells": [
  {
   "cell_type": "markdown",
   "metadata": {},
   "source": [
    "## 重新命名照片，並隨機抽取十張作為問卷資料"
   ]
  },
  {
   "cell_type": "code",
   "execution_count": 1,
   "metadata": {},
   "outputs": [],
   "source": [
    "import os   \n",
    "import glob\n",
    "import random\n",
    "import shutil"
   ]
  },
  {
   "cell_type": "code",
   "execution_count": 27,
   "metadata": {},
   "outputs": [],
   "source": [
    "forward_path = 'test/acne_testing_datasets6_256_256'\n",
    "side_path = 'test/test_final_256_256'\n",
    "path_choose = 'test/test20_image'"
   ]
  },
  {
   "cell_type": "code",
   "execution_count": 6,
   "metadata": {},
   "outputs": [],
   "source": [
    "forward = glob.glob(forward_path + r'/*.jpg', recursive=True)\n",
    "side = glob.glob(side_path + r'/*.jpg', recursive=True)\n",
    "\n",
    "forward_name = []\n",
    "side_name = []\n",
    "for i in range(len(forward)):\n",
    "    forward_name.append(forward[i].split('/')[-1])\n",
    "for i in range(len(side)):\n",
    "    side_name.append(side[i].split('/')[-1])"
   ]
  },
  {
   "cell_type": "code",
   "execution_count": 8,
   "metadata": {},
   "outputs": [
    {
     "name": "stdout",
     "output_type": "stream",
     "text": [
      "62.jpg 已重命名為 side_62.jpg\n",
      "60.jpg 已重命名為 side_60.jpg\n",
      "48.jpg 已重命名為 side_48.jpg\n",
      "49.jpg 已重命名為 side_49.jpg\n",
      "61.jpg 已重命名為 side_61.jpg\n",
      "59.jpg 已重命名為 side_59.jpg\n",
      "58.jpg 已重命名為 side_58.jpg\n",
      "8.jpg 已重命名為 side_8.jpg\n",
      "9.jpg 已重命名為 side_9.jpg\n",
      "14.jpg 已重命名為 side_14.jpg\n",
      "28.jpg 已重命名為 side_28.jpg\n",
      "29.jpg 已重命名為 side_29.jpg\n",
      "15.jpg 已重命名為 side_15.jpg\n",
      "17.jpg 已重命名為 side_17.jpg\n",
      "16.jpg 已重命名為 side_16.jpg\n",
      "12.jpg 已重命名為 side_12.jpg\n",
      "13.jpg 已重命名為 side_13.jpg\n",
      "39.jpg 已重命名為 side_39.jpg\n",
      "11.jpg 已重命名為 side_11.jpg\n",
      "10.jpg 已重命名為 side_10.jpg\n",
      "38.jpg 已重命名為 side_38.jpg\n",
      "21.jpg 已重命名為 side_21.jpg\n",
      "35.jpg 已重命名為 side_35.jpg\n",
      "34.jpg 已重命名為 side_34.jpg\n",
      "20.jpg 已重命名為 side_20.jpg\n",
      "36.jpg 已重命名為 side_36.jpg\n",
      "22.jpg 已重命名為 side_22.jpg\n",
      "23.jpg 已重命名為 side_23.jpg\n",
      "37.jpg 已重命名為 side_37.jpg\n",
      "33.jpg 已重命名為 side_33.jpg\n",
      "27.jpg 已重命名為 side_27.jpg\n",
      "26.jpg 已重命名為 side_26.jpg\n",
      "32.jpg 已重命名為 side_32.jpg\n",
      "18.jpg 已重命名為 side_18.jpg\n",
      "24.jpg 已重命名為 side_24.jpg\n",
      "30.jpg 已重命名為 side_30.jpg\n",
      "31.jpg 已重命名為 side_31.jpg\n",
      "25.jpg 已重命名為 side_25.jpg\n",
      "19.jpg 已重命名為 side_19.jpg\n",
      "42.jpg 已重命名為 side_42.jpg\n",
      "4.jpg 已重命名為 side_4.jpg\n",
      "56.jpg 已重命名為 side_56.jpg\n",
      "5.jpg 已重命名為 side_5.jpg\n",
      "57.jpg 已重命名為 side_57.jpg\n",
      "43.jpg 已重命名為 side_43.jpg\n",
      "55.jpg 已重命名為 side_55.jpg\n",
      "7.jpg 已重命名為 side_7.jpg\n",
      "41.jpg 已重命名為 side_41.jpg\n",
      "40.jpg 已重命名為 side_40.jpg\n",
      "54.jpg 已重命名為 side_54.jpg\n",
      "6.jpg 已重命名為 side_6.jpg\n",
      "2.jpg 已重命名為 side_2.jpg\n",
      "50.jpg 已重命名為 side_50.jpg\n",
      "44.jpg 已重命名為 side_44.jpg\n",
      "45.jpg 已重命名為 side_45.jpg\n",
      "3.jpg 已重命名為 side_3.jpg\n",
      "51.jpg 已重命名為 side_51.jpg\n",
      "47.jpg 已重命名為 side_47.jpg\n",
      "53.jpg 已重命名為 side_53.jpg\n",
      "1.jpg 已重命名為 side_1.jpg\n",
      "52.jpg 已重命名為 side_52.jpg\n",
      "46.jpg 已重命名為 side_46.jpg\n"
     ]
    }
   ],
   "source": [
    "# 重命名文件\n",
    "for old_name in side_name:\n",
    "    # 在名稱前加上forward_\n",
    "    new_name = 'side_' + old_name\n",
    "    \n",
    "    # 檢查原文件是否存在\n",
    "    if os.path.exists(f'{side_path}/{old_name}'):\n",
    "        # 重命名文件\n",
    "        os.rename(f'{side_path}/{old_name}', f'{side_path}/{new_name}')\n",
    "        print(f\"{old_name} 已重命名為 {new_name}\")\n",
    "    else:\n",
    "        print(f\"未找到文件：{old_name}\")\n"
   ]
  },
  {
   "cell_type": "code",
   "execution_count": 7,
   "metadata": {},
   "outputs": [
    {
     "name": "stdout",
     "output_type": "stream",
     "text": [
      "63.jpg 已重命名為 forward_63.jpg\n",
      "77.jpg 已重命名為 forward_77.jpg\n",
      "88.jpg 已重命名為 forward_88.jpg\n",
      "89.jpg 已重命名為 forward_89.jpg\n",
      "76.jpg 已重命名為 forward_76.jpg\n",
      "62.jpg 已重命名為 forward_62.jpg\n",
      "74.jpg 已重命名為 forward_74.jpg\n",
      "60.jpg 已重命名為 forward_60.jpg\n",
      "48.jpg 已重命名為 forward_48.jpg\n",
      "49.jpg 已重命名為 forward_49.jpg\n",
      "61.jpg 已重命名為 forward_61.jpg\n",
      "75.jpg 已重命名為 forward_75.jpg\n",
      "59.jpg 已重命名為 forward_59.jpg\n",
      "71.jpg 已重命名為 forward_71.jpg\n",
      "65.jpg 已重命名為 forward_65.jpg\n",
      "64.jpg 已重命名為 forward_64.jpg\n",
      "70.jpg 已重命名為 forward_70.jpg\n",
      "58.jpg 已重命名為 forward_58.jpg\n",
      "8.jpg 已重命名為 forward_8.jpg\n",
      "66.jpg 已重命名為 forward_66.jpg\n",
      "72.jpg 已重命名為 forward_72.jpg\n",
      "99.jpg 已重命名為 forward_99.jpg\n",
      "98.jpg 已重命名為 forward_98.jpg\n",
      "73.jpg 已重命名為 forward_73.jpg\n",
      "67.jpg 已重命名為 forward_67.jpg\n",
      "9.jpg 已重命名為 forward_9.jpg\n",
      "14.jpg 已重命名為 forward_14.jpg\n",
      "28.jpg 已重命名為 forward_28.jpg\n",
      "101.jpg 已重命名為 forward_101.jpg\n",
      "100.jpg 已重命名為 forward_100.jpg\n",
      "29.jpg 已重命名為 forward_29.jpg\n",
      "15.jpg 已重命名為 forward_15.jpg\n",
      "17.jpg 已重命名為 forward_17.jpg\n",
      "16.jpg 已重命名為 forward_16.jpg\n",
      "12.jpg 已重命名為 forward_12.jpg\n",
      "13.jpg 已重命名為 forward_13.jpg\n",
      "39.jpg 已重命名為 forward_39.jpg\n",
      "11.jpg 已重命名為 forward_11.jpg\n",
      "10.jpg 已重命名為 forward_10.jpg\n",
      "38.jpg 已重命名為 forward_38.jpg\n",
      "21.jpg 已重命名為 forward_21.jpg\n",
      "35.jpg 已重命名為 forward_35.jpg\n",
      "34.jpg 已重命名為 forward_34.jpg\n",
      "20.jpg 已重命名為 forward_20.jpg\n",
      "36.jpg 已重命名為 forward_36.jpg\n",
      "22.jpg 已重命名為 forward_22.jpg\n",
      "23.jpg 已重命名為 forward_23.jpg\n",
      "37.jpg 已重命名為 forward_37.jpg\n",
      "33.jpg 已重命名為 forward_33.jpg\n",
      "27.jpg 已重命名為 forward_27.jpg\n",
      "26.jpg 已重命名為 forward_26.jpg\n",
      "32.jpg 已重命名為 forward_32.jpg\n",
      "18.jpg 已重命名為 forward_18.jpg\n",
      "24.jpg 已重命名為 forward_24.jpg\n",
      "30.jpg 已重命名為 forward_30.jpg\n",
      "31.jpg 已重命名為 forward_31.jpg\n",
      "25.jpg 已重命名為 forward_25.jpg\n",
      "19.jpg 已重命名為 forward_19.jpg\n",
      "42.jpg 已重命名為 forward_42.jpg\n",
      "4.jpg 已重命名為 forward_4.jpg\n",
      "56.jpg 已重命名為 forward_56.jpg\n",
      "81.jpg 已重命名為 forward_81.jpg\n",
      "95.jpg 已重命名為 forward_95.jpg\n",
      "94.jpg 已重命名為 forward_94.jpg\n",
      "80.jpg 已重命名為 forward_80.jpg\n",
      "5.jpg 已重命名為 forward_5.jpg\n",
      "57.jpg 已重命名為 forward_57.jpg\n",
      "43.jpg 已重命名為 forward_43.jpg\n",
      "55.jpg 已重命名為 forward_55.jpg\n",
      "7.jpg 已重命名為 forward_7.jpg\n",
      "41.jpg 已重命名為 forward_41.jpg\n",
      "69.jpg 已重命名為 forward_69.jpg\n",
      "96.jpg 已重命名為 forward_96.jpg\n",
      "82.jpg 已重命名為 forward_82.jpg\n",
      "83.jpg 已重命名為 forward_83.jpg\n",
      "97.jpg 已重命名為 forward_97.jpg\n",
      "68.jpg 已重命名為 forward_68.jpg\n",
      "40.jpg 已重命名為 forward_40.jpg\n",
      "54.jpg 已重命名為 forward_54.jpg\n",
      "6.jpg 已重命名為 forward_6.jpg\n",
      "78.jpg 已重命名為 forward_78.jpg\n",
      "2.jpg 已重命名為 forward_2.jpg\n",
      "50.jpg 已重命名為 forward_50.jpg\n",
      "44.jpg 已重命名為 forward_44.jpg\n",
      "93.jpg 已重命名為 forward_93.jpg\n",
      "87.jpg 已重命名為 forward_87.jpg\n",
      "86.jpg 已重命名為 forward_86.jpg\n",
      "92.jpg 已重命名為 forward_92.jpg\n",
      "45.jpg 已重命名為 forward_45.jpg\n",
      "3.jpg 已重命名為 forward_3.jpg\n",
      "51.jpg 已重命名為 forward_51.jpg\n",
      "79.jpg 已重命名為 forward_79.jpg\n",
      "47.jpg 已重命名為 forward_47.jpg\n",
      "53.jpg 已重命名為 forward_53.jpg\n",
      "1.jpg 已重命名為 forward_1.jpg\n",
      "84.jpg 已重命名為 forward_84.jpg\n",
      "90.jpg 已重命名為 forward_90.jpg\n",
      "91.jpg 已重命名為 forward_91.jpg\n",
      "85.jpg 已重命名為 forward_85.jpg\n",
      "52.jpg 已重命名為 forward_52.jpg\n",
      "46.jpg 已重命名為 forward_46.jpg\n"
     ]
    }
   ],
   "source": [
    "# 重命名文件\n",
    "for old_name in forward_name:\n",
    "    # 在名稱前加上forward_\n",
    "    new_name = 'forward_' + old_name\n",
    "    \n",
    "    # 檢查原文件是否存在\n",
    "    if os.path.exists(f'{forward_path}/{old_name}'):\n",
    "        # 重命名文件\n",
    "        os.rename(f'{forward_path}/{old_name}', f'{forward_path}/{new_name}')\n",
    "        print(f\"{old_name} 已重命名為 {new_name}\")\n",
    "    else:\n",
    "        print(f\"未找到文件：{old_name}\")\n"
   ]
  },
  {
   "cell_type": "code",
   "execution_count": 34,
   "metadata": {},
   "outputs": [
    {
     "name": "stdout",
     "output_type": "stream",
     "text": [
      "101\n",
      "62\n"
     ]
    }
   ],
   "source": [
    "print(len(forward))\n",
    "print(len(side))\n",
    "\n",
    "# 隨機取10個數字\n",
    "random.seed(666)\n",
    "forward_list = random.sample(range(0, 101), 10)\n",
    "side_list = random.sample(range(0, 62), 10)"
   ]
  },
  {
   "cell_type": "code",
   "execution_count": 35,
   "metadata": {},
   "outputs": [],
   "source": [
    "forward = glob.glob(forward_path + r'/*.jpg', recursive=True)\n",
    "side = glob.glob(side_path + r'/*.jpg', recursive=True)"
   ]
  },
  {
   "cell_type": "code",
   "execution_count": 36,
   "metadata": {},
   "outputs": [],
   "source": [
    "# 將這照片複製到survey資料夾\n",
    "for i in forward_list:\n",
    "    shutil.copy(forward[i], path_choose + '/'+ forward[i].split('/')[-1])\n",
    "\n",
    "for i in side_list:\n",
    "    shutil.copy(side[i], path_choose + '/'+ side[i].split('/')[-1])"
   ]
  }
 ],
 "metadata": {
  "kernelspec": {
   "display_name": "Pytorch",
   "language": "python",
   "name": "python3"
  },
  "language_info": {
   "codemirror_mode": {
    "name": "ipython",
    "version": 3
   },
   "file_extension": ".py",
   "mimetype": "text/x-python",
   "name": "python",
   "nbconvert_exporter": "python",
   "pygments_lexer": "ipython3",
   "version": "3.11.5"
  }
 },
 "nbformat": 4,
 "nbformat_minor": 2
}

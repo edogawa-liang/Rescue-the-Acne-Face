{
 "cells": [
  {
   "cell_type": "markdown",
   "metadata": {},
   "source": [
    "# 問卷分析\n",
    "- 卷 A, B: 前三題為正臉照, 後二題為側臉照 \n",
    "- 卷 C, D: 前二題為正臉照, 後三題為側臉照\n",
    "\n",
    "#### 目標\n",
    "- 正臉照的結果\n",
    "- 側臉照的結果\n",
    "- 整體的結果"
   ]
  },
  {
   "cell_type": "code",
   "execution_count": 1,
   "metadata": {},
   "outputs": [],
   "source": [
    "import pandas as pd\n",
    "import numpy as np"
   ]
  },
  {
   "cell_type": "code",
   "execution_count": 2,
   "metadata": {},
   "outputs": [],
   "source": [
    "pathA = 'survey/拯救痘痘臉-A (回覆).xlsx'\n",
    "pathB = 'survey/拯救痘痘臉-B (回覆).xlsx'\n",
    "pathC = 'survey/拯救痘痘臉-C (回覆).xlsx'\n",
    "pathD = 'survey/拯救痘痘臉-D (回覆).xlsx'"
   ]
  },
  {
   "cell_type": "code",
   "execution_count": 3,
   "metadata": {},
   "outputs": [
    {
     "name": "stdout",
     "output_type": "stream",
     "text": [
      "A: 57\n",
      "B: 43\n",
      "C: 29\n",
      "D: 27\n"
     ]
    }
   ],
   "source": [
    "A = pd.read_excel(pathA)\n",
    "B = pd.read_excel(pathB)\n",
    "C = pd.read_excel(pathC)\n",
    "D = pd.read_excel(pathD)\n",
    "\n",
    "# 各資料集的數量\n",
    "print('A:', len(A))\n",
    "print('B:', len(B))\n",
    "print('C:', len(C))\n",
    "print('D:', len(D))"
   ]
  },
  {
   "cell_type": "code",
   "execution_count": 4,
   "metadata": {},
   "outputs": [
    {
     "data": {
      "text/html": [
       "<div>\n",
       "<style scoped>\n",
       "    .dataframe tbody tr th:only-of-type {\n",
       "        vertical-align: middle;\n",
       "    }\n",
       "\n",
       "    .dataframe tbody tr th {\n",
       "        vertical-align: top;\n",
       "    }\n",
       "\n",
       "    .dataframe thead th {\n",
       "        text-align: right;\n",
       "    }\n",
       "</style>\n",
       "<table border=\"1\" class=\"dataframe\">\n",
       "  <thead>\n",
       "    <tr style=\"text-align: right;\">\n",
       "      <th></th>\n",
       "      <th>時間戳記</th>\n",
       "      <th>法1 [去除效果]</th>\n",
       "      <th>法1 [自然度]</th>\n",
       "      <th>法1 [真實度]</th>\n",
       "      <th>法2 [去除效果]</th>\n",
       "      <th>法2 [自然度]</th>\n",
       "      <th>法2 [真實度]</th>\n",
       "      <th>法3 [去除效果]</th>\n",
       "      <th>法3 [自然度]</th>\n",
       "      <th>法3 [真實度]</th>\n",
       "      <th>...</th>\n",
       "      <th>法2 [真實度].4</th>\n",
       "      <th>法3 [去除效果].4</th>\n",
       "      <th>法3 [自然度].4</th>\n",
       "      <th>法3 [真實度].4</th>\n",
       "      <th>您對以上照片的整體觀感有何其他看法？.1</th>\n",
       "      <th>您對以上照片的整體觀感有何其他看法？.2</th>\n",
       "      <th>您對以上照片的整體觀感有何其他看法？.3</th>\n",
       "      <th>您對以上照片的整體觀感有何其他看法？.4</th>\n",
       "      <th>您的名字或暱稱 (選填)</th>\n",
       "      <th>想說的話 (選填)</th>\n",
       "    </tr>\n",
       "  </thead>\n",
       "  <tbody>\n",
       "    <tr>\n",
       "      <th>0</th>\n",
       "      <td>2024-06-13 07:20:02.697</td>\n",
       "      <td>4</td>\n",
       "      <td>3</td>\n",
       "      <td>3</td>\n",
       "      <td>4</td>\n",
       "      <td>4</td>\n",
       "      <td>4</td>\n",
       "      <td>3</td>\n",
       "      <td>4</td>\n",
       "      <td>4</td>\n",
       "      <td>...</td>\n",
       "      <td>4</td>\n",
       "      <td>3</td>\n",
       "      <td>4</td>\n",
       "      <td>4</td>\n",
       "      <td>他皮膚比較好 感覺三個方法效果都還行（？）</td>\n",
       "      <td>他幾乎沒痘痘吧😂</td>\n",
       "      <td>NaN</td>\n",
       "      <td>NaN</td>\n",
       "      <td>上緣</td>\n",
       "      <td>期末辛苦ㄌ</td>\n",
       "    </tr>\n",
       "    <tr>\n",
       "      <th>1</th>\n",
       "      <td>2024-06-13 09:40:37.257</td>\n",
       "      <td>4</td>\n",
       "      <td>4</td>\n",
       "      <td>4</td>\n",
       "      <td>5</td>\n",
       "      <td>4</td>\n",
       "      <td>4</td>\n",
       "      <td>3</td>\n",
       "      <td>4</td>\n",
       "      <td>5</td>\n",
       "      <td>...</td>\n",
       "      <td>4</td>\n",
       "      <td>3</td>\n",
       "      <td>5</td>\n",
       "      <td>5</td>\n",
       "      <td>NaN</td>\n",
       "      <td>NaN</td>\n",
       "      <td>NaN</td>\n",
       "      <td>NaN</td>\n",
       "      <td>你很吵</td>\n",
       "      <td>法一該不會是橡皮擦吧</td>\n",
       "    </tr>\n",
       "    <tr>\n",
       "      <th>2</th>\n",
       "      <td>2024-06-13 11:49:09.776</td>\n",
       "      <td>5</td>\n",
       "      <td>2</td>\n",
       "      <td>2</td>\n",
       "      <td>5</td>\n",
       "      <td>4</td>\n",
       "      <td>4</td>\n",
       "      <td>4</td>\n",
       "      <td>2</td>\n",
       "      <td>2</td>\n",
       "      <td>...</td>\n",
       "      <td>4</td>\n",
       "      <td>1</td>\n",
       "      <td>2</td>\n",
       "      <td>2</td>\n",
       "      <td>NaN</td>\n",
       "      <td>NaN</td>\n",
       "      <td>NaN</td>\n",
       "      <td>NaN</td>\n",
       "      <td>NaN</td>\n",
       "      <td>NaN</td>\n",
       "    </tr>\n",
       "  </tbody>\n",
       "</table>\n",
       "<p>3 rows × 53 columns</p>\n",
       "</div>"
      ],
      "text/plain": [
       "                     時間戳記  法1 [去除效果]  法1 [自然度]  法1 [真實度]  法2 [去除效果]  法2 [自然度]  \\\n",
       "0 2024-06-13 07:20:02.697          4         3         3          4         4   \n",
       "1 2024-06-13 09:40:37.257          4         4         4          5         4   \n",
       "2 2024-06-13 11:49:09.776          5         2         2          5         4   \n",
       "\n",
       "   法2 [真實度]  法3 [去除效果]  法3 [自然度]  法3 [真實度]  ... 法2 [真實度].4  法3 [去除效果].4  \\\n",
       "0         4          3         4         4  ...          4            3   \n",
       "1         4          3         4         5  ...          4            3   \n",
       "2         4          4         2         2  ...          4            1   \n",
       "\n",
       "   法3 [自然度].4  法3 [真實度].4   您對以上照片的整體觀感有何其他看法？.1  您對以上照片的整體觀感有何其他看法？.2  \\\n",
       "0           4           4  他皮膚比較好 感覺三個方法效果都還行（？）              他幾乎沒痘痘吧😂   \n",
       "1           5           5                    NaN                   NaN   \n",
       "2           2           2                    NaN                   NaN   \n",
       "\n",
       "   您對以上照片的整體觀感有何其他看法？.3  您對以上照片的整體觀感有何其他看法？.4  您的名字或暱稱 (選填)   想說的話 (選填)  \n",
       "0                   NaN                   NaN            上緣       期末辛苦ㄌ  \n",
       "1                   NaN                   NaN           你很吵  法一該不會是橡皮擦吧  \n",
       "2                   NaN                   NaN           NaN         NaN  \n",
       "\n",
       "[3 rows x 53 columns]"
      ]
     },
     "execution_count": 4,
     "metadata": {},
     "output_type": "execute_result"
    }
   ],
   "source": [
    "# 將很差, 差, 一般, 好, 很好 轉換成 1, 2, 3, 4, 5\n",
    "map = {\n",
    "    '很差': 1,\n",
    "    '差': 2,\n",
    "    '普通': 3,\n",
    "    '好': 4,\n",
    "    '很好': 5\n",
    "}\n",
    "A = A.replace(map)\n",
    "B = B.replace(map)\n",
    "C = C.replace(map)\n",
    "D = D.replace(map)\n",
    "A.head(3)"
   ]
  },
  {
   "cell_type": "code",
   "execution_count": 5,
   "metadata": {},
   "outputs": [],
   "source": [
    "# 將欄位名稱為'法1[去除效果]'的資料取出\n",
    "method = ['法1', '法2', '法3']\n",
    "effect = [' [去除效果]', ' [自然度]', ' [真實度]']\n",
    "\n",
    "group1 = ['', '.1', '.2'] # 問卷AB正臉\n",
    "group2 = ['.3', '.4'] # 問卷AB側臉\n",
    "group3 = ['', '.1'] # 問卷CD正臉\n",
    "group4 = ['.2', '.3', '.4'] # 問卷CD側臉\n",
    "group5 = ['', '.1', '.2', '.3', '.4'] #正臉側臉一起看"
   ]
  },
  {
   "cell_type": "code",
   "execution_count": 6,
   "metadata": {},
   "outputs": [],
   "source": [
    "# 輸入單一問卷, 方法, 效果, 組別, 回傳該組的加總\n",
    "def get_effect(data, m, e, g):\n",
    "    columns = [data[m + e + i] for i in g]\n",
    "    return np.hstack(columns)  \n",
    "    "
   ]
  },
  {
   "cell_type": "code",
   "execution_count": 7,
   "metadata": {},
   "outputs": [],
   "source": [
    "# 輸入單一問卷, 回傳不同方法\n",
    "def get_all_effect(data, method, effect, group):\n",
    "    results = {} \n",
    "    for m in method:\n",
    "        for e in effect:\n",
    "            key = m + e \n",
    "            data_array = get_effect(data, m, e, group)\n",
    "            results[key] = data_array\n",
    "\n",
    "    results['樣本數'] = len(data)\n",
    "    results['題目數'] = len(group)\n",
    "    \n",
    "    return results"
   ]
  },
  {
   "cell_type": "code",
   "execution_count": 8,
   "metadata": {},
   "outputs": [],
   "source": [
    "def sum_and_print_effects(*results):\n",
    "    combined_results = {}\n",
    "    for result in results:\n",
    "        for key, data_array in result.items():\n",
    "            if key not in ['樣本數', '題目數']:\n",
    "                if key in combined_results:\n",
    "                    combined_results[key] = np.concatenate((combined_results[key], data_array))\n",
    "                else:\n",
    "                    combined_results[key] = data_array\n",
    "    \n",
    "    for key, data_array in combined_results.items():\n",
    "        average = np.mean(data_array)\n",
    "        std_dev = np.std(data_array)\n",
    "        print(f\"{key}: 平均值 = {average:.2f}, 標準差 = {std_dev:.2f}\")"
   ]
  },
  {
   "cell_type": "code",
   "execution_count": 9,
   "metadata": {},
   "outputs": [],
   "source": [
    "# 正臉照\n",
    "A_forward = get_all_effect(A, method, effect, group1)\n",
    "B_forward = get_all_effect(B, method, effect, group1)\n",
    "C_forward = get_all_effect(C, method, effect, group3)\n",
    "D_forward = get_all_effect(D, method, effect, group3)\n",
    "\n",
    "# 側臉照\n",
    "A_side = get_all_effect(A, method, effect, group2)\n",
    "B_side = get_all_effect(B, method, effect, group2)\n",
    "C_side = get_all_effect(C, method, effect, group4)\n",
    "D_side = get_all_effect(D, method, effect, group4)\n",
    "\n",
    "# 正臉側臉一起看\n",
    "A_all = get_all_effect(A, method, effect, group5)\n",
    "B_all = get_all_effect(B, method, effect, group5)\n",
    "C_all = get_all_effect(C, method, effect, group5)\n",
    "D_all = get_all_effect(D, method, effect, group5)"
   ]
  },
  {
   "cell_type": "code",
   "execution_count": 10,
   "metadata": {},
   "outputs": [
    {
     "name": "stdout",
     "output_type": "stream",
     "text": [
      "正臉照:\n",
      "法1 [去除效果]: 平均值 = 3.55, 標準差 = 0.98\n",
      "法1 [自然度]: 平均值 = 2.53, 標準差 = 1.13\n",
      "法1 [真實度]: 平均值 = 2.58, 標準差 = 1.11\n",
      "法2 [去除效果]: 平均值 = 4.10, 標準差 = 0.66\n",
      "法2 [自然度]: 平均值 = 3.73, 標準差 = 0.90\n",
      "法2 [真實度]: 平均值 = 3.63, 標準差 = 0.95\n",
      "法3 [去除效果]: 平均值 = 2.83, 標準差 = 0.98\n",
      "法3 [自然度]: 平均值 = 3.22, 標準差 = 0.96\n",
      "法3 [真實度]: 平均值 = 3.21, 標準差 = 1.00\n"
     ]
    }
   ],
   "source": [
    "# 正臉照\n",
    "print(\"正臉照:\")\n",
    "sum_and_print_effects(A_forward, B_forward, C_forward, D_forward)\n"
   ]
  },
  {
   "cell_type": "code",
   "execution_count": 11,
   "metadata": {},
   "outputs": [
    {
     "name": "stdout",
     "output_type": "stream",
     "text": [
      "側臉照:\n",
      "法1 [去除效果]: 平均值 = 3.19, 標準差 = 1.07\n",
      "法1 [自然度]: 平均值 = 2.16, 標準差 = 0.97\n",
      "法1 [真實度]: 平均值 = 2.23, 標準差 = 1.00\n",
      "法2 [去除效果]: 平均值 = 3.80, 標準差 = 0.87\n",
      "法2 [自然度]: 平均值 = 3.73, 標準差 = 0.81\n",
      "法2 [真實度]: 平均值 = 3.67, 標準差 = 0.87\n",
      "法3 [去除效果]: 平均值 = 3.40, 標準差 = 0.90\n",
      "法3 [自然度]: 平均值 = 3.27, 標準差 = 0.97\n",
      "法3 [真實度]: 平均值 = 3.27, 標準差 = 0.98\n"
     ]
    }
   ],
   "source": [
    "# 側臉照\n",
    "print(\"側臉照:\")\n",
    "sum_and_print_effects(A_side, B_side, C_side, D_side)"
   ]
  },
  {
   "cell_type": "code",
   "execution_count": 12,
   "metadata": {},
   "outputs": [
    {
     "name": "stdout",
     "output_type": "stream",
     "text": [
      "法1 [去除效果]: 平均值 = 3.38, 標準差 = 1.04\n",
      "法1 [自然度]: 平均值 = 2.36, 標準差 = 1.07\n",
      "法1 [真實度]: 平均值 = 2.42, 標準差 = 1.07\n",
      "法2 [去除效果]: 平均值 = 3.96, 標準差 = 0.78\n",
      "法2 [自然度]: 平均值 = 3.73, 標準差 = 0.86\n",
      "法2 [真實度]: 平均值 = 3.65, 標準差 = 0.92\n",
      "法3 [去除效果]: 平均值 = 3.10, 標準差 = 0.99\n",
      "法3 [自然度]: 平均值 = 3.24, 標準差 = 0.97\n",
      "法3 [真實度]: 平均值 = 3.24, 標準差 = 0.99\n"
     ]
    }
   ],
   "source": [
    "# 正臉側臉一起看\n",
    "sum_and_print_effects(A_all, B_all, C_all, D_all)"
   ]
  }
 ],
 "metadata": {
  "kernelspec": {
   "display_name": "Pytorch",
   "language": "python",
   "name": "python3"
  },
  "language_info": {
   "codemirror_mode": {
    "name": "ipython",
    "version": 3
   },
   "file_extension": ".py",
   "mimetype": "text/x-python",
   "name": "python",
   "nbconvert_exporter": "python",
   "pygments_lexer": "ipython3",
   "version": "3.11.5"
  }
 },
 "nbformat": 4,
 "nbformat_minor": 2
}
